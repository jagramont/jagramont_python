{
 "cells": [
  {
   "cell_type": "code",
   "execution_count": null,
   "id": "541fa990-3ac4-4772-b420-113633d02685",
   "metadata": {},
   "outputs": [],
   "source": [
    "import pandas as pd\n",
    "import numpy as np\n",
    "import matplotlib.pyplot as plt\n",
    "import seaborn as sns\n",
    "from scipy import stats"
   ]
  },
  {
   "cell_type": "code",
   "execution_count": null,
   "id": "cfc6a91d-7c92-48d3-9bcd-d04c35f31d58",
   "metadata": {},
   "outputs": [],
   "source": [
    "# Load the csv data \n",
    "df = pd.read_csv('/Users/agramont/Library/CloudStorage/OneDrive-Chalmers/Community models/ppk_growth.csv', delimiter=';')\n",
    "df"
   ]
  },
  {
   "cell_type": "code",
   "execution_count": null,
   "id": "4c9fac9e-39f0-484b-b4a4-12bd0cc38cad",
   "metadata": {},
   "outputs": [],
   "source": [
    "df['1'] = df['1'].str.replace(',', '.').astype(float)\n",
    "df['2'] = df['2'].str.replace(',', '.').astype(float)\n",
    "df['3'] = df['3'].str.replace(',', '.').astype(float)\n",
    "df['4'] = df['4'].str.replace(',', '.').astype(float)\n",
    "df['5'] = df['5'].str.replace(',', '.').astype(float)\n",
    "df['6'] = df['6'].str.replace(',', '.').astype(float)\n",
    "df['7'] = df['7'].str.replace(',', '.').astype(float)\n",
    "df['8'] = df['8'].str.replace(',', '.').astype(float)\n",
    "# Repeat this line for each column containing decimal numbers"
   ]
  },
  {
   "cell_type": "code",
   "execution_count": null,
   "id": "642fbc8f-6d4a-4147-aca6-2f118594e356",
   "metadata": {},
   "outputs": [],
   "source": [
    "df"
   ]
  },
  {
   "cell_type": "code",
   "execution_count": null,
   "id": "0db542d9-17d5-4d56-add4-1362190f83a7",
   "metadata": {},
   "outputs": [],
   "source": [
    "z_scores = np.abs(stats.zscore(df.iloc[:, 1:-1]))  # Exclude the first and last columns\n",
    "threshold = 3  # Adjust this threshold as needed\n",
    "outliers = np.where(z_scores > threshold)\n",
    "df_cleaned = df.drop(outliers[0])\n",
    "df_cleaned"
   ]
  },
  {
   "cell_type": "code",
   "execution_count": null,
   "id": "c70280be-be38-45dd-8faf-011380de7ddb",
   "metadata": {},
   "outputs": [],
   "source": [
    "means = df_cleaned.groupby(['Culture', 'Day']).mean()\n",
    "stds = df_cleaned.groupby(['Culture', 'Day']).std()"
   ]
  },
  {
   "cell_type": "code",
   "execution_count": null,
   "id": "ae90b052-950e-4c7e-9a5b-7b170126978f",
   "metadata": {},
   "outputs": [],
   "source": [
    "melted_df = pd.melt(df_cleaned, id_vars=['Culture', 'Day'], var_name='Replicate', value_name='Value')\n",
    "melted_df"
   ]
  },
  {
   "cell_type": "code",
   "execution_count": null,
   "id": "0a78b0e3-4d24-4410-a9cc-d5cb3e12be68",
   "metadata": {},
   "outputs": [],
   "source": [
    "means = df_cleaned.groupby(['Culture', 'Day']).mean()\n",
    "stds = df_cleaned.groupby(['Culture', 'Day']).std()"
   ]
  },
  {
   "cell_type": "code",
   "execution_count": null,
   "id": "2905501c-ebe8-42e6-b418-385e9ba917cb",
   "metadata": {},
   "outputs": [],
   "source": [
    "#import warnings\n",
    "\n",
    "# Suppress seaborn warnings\n",
    "warnings.filterwarnings(\"ignore\", category=FutureWarning)\n",
    "warnings.filterwarnings(\"ignore\", category=UserWarning)\n",
    "\n",
    "# Your seaborn code here\n",
    "\n",
    "\n",
    "#### constructing the figuere: \n",
    "import os\n",
    "\n",
    "# Directory path where you want to save the figure\n",
    "save_directory = '/Users/agramont/Library/CloudStorage/OneDrive-Chalmers/Community models'\n",
    "\n",
    "plt.figure(figsize=(10, 6))\n",
    "sns.set_palette(\"Set1\")\n",
    "\n",
    "# Assuming 'Culture' is the column containing treatment names\n",
    "treatments = melted_df['Culture'].unique()\n",
    "\n",
    "for treatment in treatments:\n",
    "    data = melted_df[melted_df['Culture'] == treatment]\n",
    "    sns.lineplot(data=data, x='Day', y='Value', label=treatment)\n",
    "\n",
    "plt.xlabel('Day')\n",
    "plt.ylabel('Absorbance OD600')\n",
    "plt.title('Bacterial growth')\n",
    "plt.xticks([1, 2, 3, 4, 5])\n",
    "plt.legend()\n",
    "plt.show()\n",
    "\n",
    "# Display the figure\n",
    "plt.show()\n",
    "\n",
    "# Restore warnings to their default behavior (optional)\n",
    "warnings.resetwarnings()"
   ]
  },
  {
   "cell_type": "code",
   "execution_count": null,
   "id": "99543286-8cca-4400-bc51-c71d29cf180c",
   "metadata": {},
   "outputs": [],
   "source": [
    "import matplotlib\n",
    "matplotlib.use('Agg')  # Use the Agg backend\n"
   ]
  },
  {
   "cell_type": "code",
   "execution_count": null,
   "id": "b7a1baee-4f6d-4680-b913-60f0572e0a33",
   "metadata": {},
   "outputs": [],
   "source": [
    "# Save the figure in the specified directory\n",
    "filename = 'Bacterial_growth.png'  # Specify the filename as needed\n",
    "save_path = os.path.join(save_directory, filename)\n",
    "plt.savefig(save_path, dpi=300)"
   ]
  },
  {
   "cell_type": "code",
   "execution_count": null,
   "id": "0e8c2d7e-b7cd-4dfb-b780-a08c785c0c60",
   "metadata": {},
   "outputs": [],
   "source": []
  },
  {
   "cell_type": "code",
   "execution_count": null,
   "id": "23037d08-7050-4d5e-a0ce-a4ede5d017dd",
   "metadata": {},
   "outputs": [],
   "source": []
  }
 ],
 "metadata": {
  "kernelspec": {
   "display_name": "Python 3 (ipykernel)",
   "language": "python",
   "name": "python3"
  },
  "language_info": {
   "codemirror_mode": {
    "name": "ipython",
    "version": 3
   },
   "file_extension": ".py",
   "mimetype": "text/x-python",
   "name": "python",
   "nbconvert_exporter": "python",
   "pygments_lexer": "ipython3",
   "version": "3.9.18"
  }
 },
 "nbformat": 4,
 "nbformat_minor": 5
}
